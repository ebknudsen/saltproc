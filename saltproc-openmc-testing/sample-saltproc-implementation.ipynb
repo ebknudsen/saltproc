{
 "cells": [
  {
   "cell_type": "code",
   "execution_count": 1,
   "id": "9de10d33",
   "metadata": {},
   "outputs": [],
   "source": [
    "import openmc\n",
    "import openmc.deplete\n",
    "import openmc.model"
   ]
  },
  {
   "cell_type": "markdown",
   "id": "3a0bb1b4",
   "metadata": {},
   "source": [
    "Import geometry, materials, and settings"
   ]
  },
  {
   "cell_type": "code",
   "execution_count": 47,
   "id": "0f1c523a",
   "metadata": {},
   "outputs": [
    {
     "name": "stderr",
     "output_type": "stream",
     "text": [
      "/home/ooblack/projects/openmc/openmc/mixin.py:67: IDWarning: Another Material instance already exists with id=1.\n",
      "  warn(msg, IDWarning)\n",
      "/home/ooblack/projects/openmc/openmc/mixin.py:67: IDWarning: Another Material instance already exists with id=2.\n",
      "  warn(msg, IDWarning)\n",
      "/home/ooblack/projects/openmc/openmc/mixin.py:67: IDWarning: Another Material instance already exists with id=3.\n",
      "  warn(msg, IDWarning)\n"
     ]
    }
   ],
   "source": [
    "geometry = openmc.Geometry.from_xml('ref_geometry.xml')\n",
    "materials = openmc.Materials.from_xml('ref_materials.xml')\n",
    "settings = openmc.Settings.from_xml('ref_settings.xml')"
   ]
  },
  {
   "cell_type": "code",
   "execution_count": 6,
   "id": "af91714a",
   "metadata": {},
   "outputs": [],
   "source": [
    "ref_materials = openmc.Materials.from_xml('ref_materials.xml')"
   ]
  },
  {
   "cell_type": "markdown",
   "id": "872ce345",
   "metadata": {},
   "source": [
    "Create tallies"
   ]
  },
  {
   "cell_type": "code",
   "execution_count": 3,
   "id": "01922e92",
   "metadata": {},
   "outputs": [
    {
     "name": "stderr",
     "output_type": "stream",
     "text": [
      "/home/ooblack/projects/openmc/openmc/mixin.py:67: IDWarning: Another Filter instance already exists with id=1.\n",
      "  warn(msg, IDWarning)\n",
      "/home/ooblack/projects/openmc/openmc/mixin.py:67: IDWarning: Another Filter instance already exists with id=2.\n",
      "  warn(msg, IDWarning)\n",
      "/home/ooblack/projects/openmc/openmc/mixin.py:67: IDWarning: Another Filter instance already exists with id=6.\n",
      "  warn(msg, IDWarning)\n"
     ]
    }
   ],
   "source": [
    "tallies = openmc.Tallies()\n",
    "\n",
    "tally = openmc.Tally(name='delayed-neutrons')\n",
    "tally.filters = [openmc.DelayedGroupFilter([1,2,3,4,5,6])]\n",
    "tally.scores = ['delayed-nu-fission']\n",
    "tallies.append(tally)\n",
    "\n",
    "tally = openmc.Tally(name='delayed-neutrons-1g')\n",
    "tally.filters = [openmc.DelayedGroupFilter([1])]\n",
    "tally.scores = ['delayed-nu-fission']\n",
    "tallies.append(tally)\n",
    "\n",
    "tally = openmc.Tally(name='total-neutrons')\n",
    "tally.filters = [openmc.MaterialFilter(materials[0])]\n",
    "tally.scores = ['nu-fission']\n",
    "tallies.append(tally)\n",
    "\n",
    "#tally = openmc.Tally(name='neutrons-energy-bin')\n",
    "#tally.filters = [openmc.EnergyFilter([1e-8,200000000.0])]\n",
    "#tally.scores = ['nu-fission' 'delayed-nu-fission']\n",
    "#tallies.append(tally)\n",
    "\n",
    "tally = openmc.Tally(name='precursor-decay')\n",
    "tally.filters = [openmc.DelayedGroupFilter([1,2,3,4,5,6])]\n",
    "tally.scores = ['decay-rate']\n",
    "tallies.append(tally)\n",
    "\n",
    "tally = openmc.Tally(name='precursor-decay-1g')\n",
    "tally.filters = [openmc.DelayedGroupFilter([1])]\n",
    "tally.scores = ['decay-rate']\n",
    "tallies.append(tally)\n",
    "\n",
    "tally = openmc.Tally(name='fission-energy')\n",
    "tally.filters = [openmc.UniverseFilter(geometry.root_universe)]\n",
    "tally.scores = ['fission-q-recoverable', 'fission-q-prompt', 'kappa-fission']\n",
    "tallies.append(tally)\n",
    "\n",
    "tally = openmc.Tally(name='normalization')\n",
    "tally.filters = [openmc.UniverseFilter(geometry.root_universe)]\n",
    "tally.scores = ['heating']\n",
    "tallies.append(tally)\n",
    "\n",
    "tallies.export_to_xml()"
   ]
  },
  {
   "cell_type": "markdown",
   "id": "f00c025f",
   "metadata": {},
   "source": [
    "Create model and depletion parameters"
   ]
  },
  {
   "cell_type": "code",
   "execution_count": 46,
   "id": "eac5ef32",
   "metadata": {},
   "outputs": [],
   "source": [
    "sp.close()"
   ]
  },
  {
   "cell_type": "code",
   "execution_count": 48,
   "id": "0a9671c0",
   "metadata": {},
   "outputs": [],
   "source": [
    "model = openmc.model.Model(geometry=geometry, \n",
    "                           materials=materials, \n",
    "                           settings=settings,\n",
    "                           tallies=tallies)\n",
    "timesteps = [3 * 3600 * 24] # 3 days -> seconds\n",
    "chain_path = \"./chain_simple.xml\"\n",
    "power = 174\n",
    "operator = openmc.deplete.Operator(model, chain_file=chain_path)\n",
    "hm_before = operator.heavy_metal\n",
    "operator_kwargs = {'chain_file': chain_path}\n",
    "integrator_kwargs = {'power': power}"
   ]
  },
  {
   "cell_type": "code",
   "execution_count": 50,
   "id": "17ec70bc",
   "metadata": {},
   "outputs": [
    {
     "name": "stdout",
     "output_type": "stream",
     "text": [
      "                                %%%%%%%%%%%%%%%\n",
      "                           %%%%%%%%%%%%%%%%%%%%%%%%\n",
      "                        %%%%%%%%%%%%%%%%%%%%%%%%%%%%%%\n",
      "                      %%%%%%%%%%%%%%%%%%%%%%%%%%%%%%%%%%\n",
      "                    %%%%%%%%%%%%%%%%%%%%%%%%%%%%%%%%%%%%%%\n",
      "                   %%%%%%%%%%%%%%%%%%%%%%%%%%%%%%%%%%%%%%%%\n",
      "                                    %%%%%%%%%%%%%%%%%%%%%%%%\n",
      "                                     %%%%%%%%%%%%%%%%%%%%%%%%\n",
      "                 ###############      %%%%%%%%%%%%%%%%%%%%%%%%\n",
      "                ##################     %%%%%%%%%%%%%%%%%%%%%%%\n",
      "                ###################     %%%%%%%%%%%%%%%%%%%%%%%\n",
      "                ####################     %%%%%%%%%%%%%%%%%%%%%%\n",
      "                #####################     %%%%%%%%%%%%%%%%%%%%%\n",
      "                ######################     %%%%%%%%%%%%%%%%%%%%\n",
      "                #######################     %%%%%%%%%%%%%%%%%%\n",
      "                 #######################     %%%%%%%%%%%%%%%%%\n",
      "                 ######################     %%%%%%%%%%%%%%%%%\n",
      "                  ####################     %%%%%%%%%%%%%%%%%\n",
      "                    #################     %%%%%%%%%%%%%%%%%\n",
      "                     ###############     %%%%%%%%%%%%%%%%\n",
      "                       ############     %%%%%%%%%%%%%%%\n",
      "                          ########     %%%%%%%%%%%%%%\n",
      "                                      %%%%%%%%%%%\n",
      "\n",
      "                 | The OpenMC Monte Carlo Code\n",
      "       Copyright | 2011-2022 MIT, UChicago Argonne LLC, and contributors\n",
      "         License | https://docs.openmc.org/en/latest/license.html\n",
      "         Version | 0.13.0\n",
      "        Git SHA1 | cff247e35785e7236d67ccf64a3401f0fc50a469\n",
      "       Date/Time | 2022-02-14 18:34:25\n",
      "  OpenMP Threads | 4\n",
      "\n",
      " Reading settings XML file...\n",
      " Reading cross sections XML file...\n",
      " Reading materials XML file...\n",
      " Reading geometry XML file...\n",
      " Reading U234 from\n",
      " /home/ooblack/projects/cross-section-libraries/endfb71_hdf5/U234.h5\n",
      " Reading U235 from\n",
      " /home/ooblack/projects/cross-section-libraries/endfb71_hdf5/U235.h5\n",
      " Reading U238 from\n",
      " /home/ooblack/projects/cross-section-libraries/endfb71_hdf5/U238.h5\n",
      " Reading O16 from\n",
      " /home/ooblack/projects/cross-section-libraries/endfb71_hdf5/O16.h5\n",
      " Reading O17 from\n",
      " /home/ooblack/projects/cross-section-libraries/endfb71_hdf5/O17.h5\n",
      " Reading U236 from\n",
      " /home/ooblack/projects/cross-section-libraries/endfb71_hdf5/U236.h5\n",
      " Reading Zr90 from\n",
      " /home/ooblack/projects/cross-section-libraries/endfb71_hdf5/Zr90.h5\n",
      " Reading Zr91 from\n",
      " /home/ooblack/projects/cross-section-libraries/endfb71_hdf5/Zr91.h5\n",
      " Reading Zr92 from\n",
      " /home/ooblack/projects/cross-section-libraries/endfb71_hdf5/Zr92.h5\n",
      " Reading Zr94 from\n",
      " /home/ooblack/projects/cross-section-libraries/endfb71_hdf5/Zr94.h5\n",
      " Reading Zr96 from\n",
      " /home/ooblack/projects/cross-section-libraries/endfb71_hdf5/Zr96.h5\n",
      " Reading H1 from\n",
      " /home/ooblack/projects/cross-section-libraries/endfb71_hdf5/H1.h5\n",
      " Reading H2 from\n",
      " /home/ooblack/projects/cross-section-libraries/endfb71_hdf5/H2.h5\n",
      " Reading c_H_in_H2O from\n",
      " /home/ooblack/projects/cross-section-libraries/endfb71_hdf5/c_H_in_H2O.h5\n",
      " Minimum neutron data temperature: 0 K\n",
      " Maximum neutron data temperature: 1.7976931348623157e+308 K\n",
      " Reading tallies XML file...\n",
      " Preparing distributed cell instances...\n",
      " Reading plot XML file...\n",
      " Writing summary.h5 file...\n",
      " Reading I135 from\n",
      " /home/ooblack/projects/cross-section-libraries/endfb71_hdf5/I135.h5\n",
      " Reading Xe135 from\n",
      " /home/ooblack/projects/cross-section-libraries/endfb71_hdf5/Xe135.h5\n",
      " Reading Xe136 from\n",
      " /home/ooblack/projects/cross-section-libraries/endfb71_hdf5/Xe136.h5\n",
      " Reading Cs135 from\n",
      " /home/ooblack/projects/cross-section-libraries/endfb71_hdf5/Cs135.h5\n",
      " Reading Gd157 from\n",
      " /home/ooblack/projects/cross-section-libraries/endfb71_hdf5/Gd157.h5\n",
      " Reading Gd156 from\n",
      " /home/ooblack/projects/cross-section-libraries/endfb71_hdf5/Gd156.h5\n",
      " Maximum neutron transport energy: 20000000 eV for U235\n",
      " Initializing source particles...\n",
      "\n",
      " ====================>     K EIGENVALUE SIMULATION     <====================\n",
      "\n",
      "  Bat./Gen.      k            Average k\n",
      "  =========   ========   ====================\n",
      "        1/1    0.98791\n",
      "        2/1    0.78844\n",
      "        3/1    0.87018\n",
      "        4/1    0.74378\n",
      "        5/1    0.61237\n",
      "        6/1    0.89620\n",
      "        7/1    0.77584\n",
      "        8/1    0.80041\n",
      "        9/1    0.87828\n",
      "       10/1    0.80515\n",
      "       11/1    0.67200\n",
      "       12/1    0.81423    0.74312 +/- 0.07111\n",
      "       13/1    0.75141    0.74588 +/- 0.04115\n",
      "       14/1    0.71933    0.73924 +/- 0.02984\n",
      "       15/1    0.74143    0.73968 +/- 0.02312\n",
      "       16/1    0.80730    0.75095 +/- 0.02199\n",
      "       17/1    0.68875    0.74206 +/- 0.02060\n",
      "       18/1    0.68145    0.73449 +/- 0.01938\n",
      "       19/1    0.66099    0.72632 +/- 0.01894\n",
      "       20/1    0.75922    0.72961 +/- 0.01726\n",
      "       21/1    0.76214    0.73257 +/- 0.01589\n",
      "       22/1    0.73512    0.73278 +/- 0.01451\n",
      "       23/1    0.73837    0.73321 +/- 0.01335\n",
      "       24/1    0.83098    0.74019 +/- 0.01420\n",
      "       25/1    0.84257    0.74702 +/- 0.01487\n",
      "       26/1    0.68046    0.74286 +/- 0.01452\n",
      "       27/1    0.79995    0.74622 +/- 0.01405\n",
      "       28/1    0.87962    0.75363 +/- 0.01518\n",
      "       29/1    0.93313    0.76308 +/- 0.01719\n",
      "       30/1    0.69037    0.75944 +/- 0.01670\n",
      "       31/1    0.81911    0.76228 +/- 0.01614\n",
      "       32/1    0.76179    0.76226 +/- 0.01539\n",
      "       33/1    0.72334    0.76057 +/- 0.01480\n",
      "       34/1    0.74251    0.75982 +/- 0.01419\n",
      "       35/1    0.78159    0.76069 +/- 0.01364\n",
      "       36/1    0.73189    0.75958 +/- 0.01315\n",
      "       37/1    0.77641    0.76020 +/- 0.01267\n",
      "       38/1    0.64465    0.75608 +/- 0.01289\n",
      "       39/1    0.70758    0.75440 +/- 0.01255\n",
      "       40/1    0.86882    0.75822 +/- 0.01271\n",
      "       41/1    0.81053    0.75990 +/- 0.01241\n",
      "       42/1    0.72895    0.75894 +/- 0.01205\n",
      "       43/1    0.76186    0.75903 +/- 0.01168\n",
      "       44/1    0.68617    0.75688 +/- 0.01153\n",
      "       45/1    0.79489    0.75797 +/- 0.01125\n",
      "       46/1    0.78028    0.75859 +/- 0.01095\n",
      "       47/1    0.70691    0.75719 +/- 0.01074\n",
      "       48/1    0.84591    0.75953 +/- 0.01071\n",
      "       49/1    0.67563    0.75738 +/- 0.01066\n",
      "       50/1    0.84374    0.75953 +/- 0.01061\n",
      " Creating state point statepoint.50.h5...\n",
      "\n",
      " =======================>     TIMING STATISTICS     <=======================\n",
      "\n",
      " Total time for initialization     = 9.1356e-01 seconds\n",
      "   Reading cross sections          = 8.9774e-01 seconds\n",
      " Total time in simulation          = 3.1508e+00 seconds\n",
      "   Time in transport only          = 3.0032e+00 seconds\n",
      "   Time in inactive batches        = 1.4123e-01 seconds\n",
      "   Time in active batches          = 3.0096e+00 seconds\n",
      "   Time synchronizing fission bank = 1.0048e-03 seconds\n",
      "     Sampling source sites         = 8.1992e-04 seconds\n",
      "     SEND/RECV source sites        = 7.0488e-05 seconds\n",
      "   Time accumulating tallies       = 1.2943e-01 seconds\n",
      "   Time writing statepoints        = 7.0594e-03 seconds\n",
      " Total time for finalization       = 1.8851e-04 seconds\n",
      " Total time elapsed                = 4.0780e+00 seconds\n",
      " Calculation Rate (inactive)       = 7080.64 particles/second\n",
      " Calculation Rate (active)         = 1329.08 particles/second\n",
      "\n",
      " ============================>     RESULTS     <============================\n",
      "\n",
      " k-effective (Collision)     = 0.75480 +/- 0.00971\n",
      " k-effective (Track-length)  = 0.75953 +/- 0.01061\n",
      " k-effective (Absorption)    = 0.78285 +/- 0.01287\n",
      " Combined k-effective        = 0.76562 +/- 0.00853\n",
      " Leakage Fraction            = 0.00000 +/- 0.00000\n",
      "\n",
      " Creating state point openmc_simulation_n0.h5...\n",
      " Maximum neutron transport energy: 20000000 eV for U235\n",
      " Initializing source particles...\n",
      "\n",
      " ====================>     K EIGENVALUE SIMULATION     <====================\n",
      "\n",
      "  Bat./Gen.      k            Average k\n",
      "  =========   ========   ====================\n",
      "        1/1    0.78249\n",
      "        2/1    0.89361\n",
      "        3/1    0.76434\n",
      "        4/1    0.76618\n",
      "        5/1    0.64060\n",
      "        6/1    0.73755\n",
      "        7/1    0.79215\n",
      "        8/1    0.66741\n",
      "        9/1    0.63300\n",
      "       10/1    0.76641\n",
      "       11/1    0.86127\n",
      "       12/1    0.82330    0.84228 +/- 0.01899\n",
      "       13/1    0.88690    0.85716 +/- 0.01848\n",
      "       14/1    0.89357    0.86626 +/- 0.01592\n",
      "       15/1    0.72735    0.83848 +/- 0.03040\n",
      "       16/1    0.76723    0.82660 +/- 0.02751\n",
      "       17/1    0.68474    0.80634 +/- 0.03085\n"
     ]
    },
    {
     "name": "stdout",
     "output_type": "stream",
     "text": [
      "       18/1    0.71582    0.79502 +/- 0.02901\n",
      "       19/1    0.69543    0.78396 +/- 0.02788\n",
      "       20/1    0.68739    0.77430 +/- 0.02674\n",
      "       21/1    0.84266    0.78051 +/- 0.02497\n",
      "       22/1    0.80714    0.78273 +/- 0.02290\n",
      "       23/1    0.81266    0.78503 +/- 0.02119\n",
      "       24/1    0.78144    0.78478 +/- 0.01962\n",
      "       25/1    0.72566    0.78084 +/- 0.01869\n",
      "       26/1    0.68751    0.77500 +/- 0.01843\n",
      "       27/1    0.77064    0.77475 +/- 0.01731\n",
      "       28/1    0.72323    0.77189 +/- 0.01657\n",
      "       29/1    0.70491    0.76836 +/- 0.01607\n",
      "       30/1    0.71617    0.76575 +/- 0.01546\n",
      "       31/1    0.77101    0.76600 +/- 0.01471\n",
      "       32/1    0.77461    0.76639 +/- 0.01403\n",
      "       33/1    0.73821    0.76517 +/- 0.01346\n",
      "       34/1    0.67636    0.76147 +/- 0.01341\n",
      "       35/1    0.76799    0.76173 +/- 0.01287\n",
      "       36/1    0.72223    0.76021 +/- 0.01245\n",
      "       37/1    0.91325    0.76588 +/- 0.01326\n",
      "       38/1    0.88221    0.77003 +/- 0.01343\n",
      "       39/1    0.67833    0.76687 +/- 0.01334\n",
      "       40/1    0.76189    0.76670 +/- 0.01289\n",
      "       41/1    0.78242    0.76721 +/- 0.01248\n",
      "       42/1    0.75541    0.76684 +/- 0.01209\n",
      "       43/1    0.74612    0.76621 +/- 0.01173\n",
      "       44/1    0.64914    0.76277 +/- 0.01189\n",
      "       45/1    0.73804    0.76206 +/- 0.01157\n",
      "       46/1    0.78969    0.76283 +/- 0.01127\n",
      "       47/1    0.72683    0.76186 +/- 0.01100\n",
      "       48/1    0.79433    0.76271 +/- 0.01074\n",
      "       49/1    0.74674    0.76230 +/- 0.01047\n",
      "       50/1    0.69407    0.76060 +/- 0.01035\n",
      " Creating state point statepoint.50.h5...\n",
      "\n",
      " =======================>     TIMING STATISTICS     <=======================\n",
      "\n",
      " Total time for initialization     = 0.0000e+00 seconds\n",
      "   Reading cross sections          = 0.0000e+00 seconds\n",
      " Total time in simulation          = 3.5599e+00 seconds\n",
      "   Time in transport only          = 3.4083e+00 seconds\n",
      "   Time in inactive batches        = 8.6946e-02 seconds\n",
      "   Time in active batches          = 3.4729e+00 seconds\n",
      "   Time synchronizing fission bank = 1.3253e-03 seconds\n",
      "     Sampling source sites         = 1.0967e-03 seconds\n",
      "     SEND/RECV source sites        = 1.0018e-04 seconds\n",
      "   Time accumulating tallies       = 1.2952e-01 seconds\n",
      "   Time writing statepoints        = 2.4643e-02 seconds\n",
      " Total time for finalization       = 1.7988e-04 seconds\n",
      " Total time elapsed                = 3.5711e+00 seconds\n",
      " Calculation Rate (inactive)       = 11501.4 particles/second\n",
      " Calculation Rate (active)         = 1151.76 particles/second\n",
      "\n",
      " ============================>     RESULTS     <============================\n",
      "\n",
      " k-effective (Collision)     = 0.76675 +/- 0.00960\n",
      " k-effective (Track-length)  = 0.76060 +/- 0.01035\n",
      " k-effective (Absorption)    = 0.76334 +/- 0.01578\n",
      " Combined k-effective        = 0.76772 +/- 0.00860\n",
      " Leakage Fraction            = 0.00000 +/- 0.00000\n",
      "\n",
      " Maximum neutron transport energy: 20000000 eV for U235\n",
      " Initializing source particles...\n",
      "\n",
      " ====================>     K EIGENVALUE SIMULATION     <====================\n",
      "\n",
      "  Bat./Gen.      k            Average k\n",
      "  =========   ========   ====================\n",
      "        1/1    0.70590\n",
      "        2/1    0.81554\n",
      "        3/1    0.85536\n",
      "        4/1    0.72892\n",
      "        5/1    0.79291\n",
      "        6/1    0.81075\n",
      "        7/1    0.74747\n",
      "        8/1    0.75897\n",
      "        9/1    0.71566\n",
      "       10/1    0.85054\n",
      "       11/1    0.70075\n",
      "       12/1    0.74297    0.72186 +/- 0.02111\n",
      "       13/1    0.69722    0.71365 +/- 0.01470\n",
      "       14/1    0.77216    0.72828 +/- 0.01795\n",
      "       15/1    0.82756    0.74813 +/- 0.02424\n",
      "       16/1    0.75551    0.74936 +/- 0.01983\n",
      "       17/1    0.87921    0.76791 +/- 0.02500\n",
      "       18/1    0.85449    0.77873 +/- 0.02420\n",
      "       19/1    0.80824    0.78201 +/- 0.02160\n",
      "       20/1    0.82291    0.78610 +/- 0.01974\n",
      "       21/1    0.86735    0.79349 +/- 0.01933\n",
      "       22/1    0.74047    0.78907 +/- 0.01819\n",
      "       23/1    0.73774    0.78512 +/- 0.01719\n",
      "       24/1    0.78472    0.78509 +/- 0.01591\n",
      "       25/1    0.79003    0.78542 +/- 0.01482\n",
      "       26/1    0.71108    0.78078 +/- 0.01462\n",
      "       27/1    0.79009    0.78132 +/- 0.01374\n",
      "       28/1    0.80142    0.78244 +/- 0.01301\n",
      "       29/1    0.77943    0.78228 +/- 0.01230\n",
      "       30/1    0.82826    0.78458 +/- 0.01190\n",
      "       31/1    0.77490    0.78412 +/- 0.01133\n",
      "       32/1    0.69393    0.78002 +/- 0.01155\n",
      "       33/1    0.85716    0.78337 +/- 0.01154\n",
      "       34/1    0.69308    0.77961 +/- 0.01167\n",
      "       35/1    0.74665    0.77829 +/- 0.01127\n",
      "       36/1    0.74801    0.77713 +/- 0.01089\n",
      "       37/1    0.91009    0.78205 +/- 0.01158\n",
      "       38/1    0.72625    0.78006 +/- 0.01133\n",
      "       39/1    0.68617    0.77682 +/- 0.01140\n",
      "       40/1    0.94375    0.78239 +/- 0.01234\n",
      "       41/1    0.85808    0.78483 +/- 0.01219\n",
      "       42/1    0.74956    0.78373 +/- 0.01185\n",
      "       43/1    0.77421    0.78344 +/- 0.01149\n",
      "       44/1    0.84257    0.78518 +/- 0.01128\n",
      "       45/1    0.71621    0.78321 +/- 0.01113\n",
      "       46/1    0.67993    0.78034 +/- 0.01119\n",
      "       47/1    0.70008    0.77817 +/- 0.01110\n",
      "       48/1    0.78342    0.77831 +/- 0.01080\n",
      "       49/1    0.77872    0.77832 +/- 0.01052\n",
      "       50/1    0.68632    0.77602 +/- 0.01051\n",
      " Creating state point statepoint.50.h5...\n",
      "\n",
      " =======================>     TIMING STATISTICS     <=======================\n",
      "\n",
      " Total time for initialization     = 0.0000e+00 seconds\n",
      "   Reading cross sections          = 0.0000e+00 seconds\n",
      " Total time in simulation          = 3.5110e+00 seconds\n",
      "   Time in transport only          = 3.4193e+00 seconds\n",
      "   Time in inactive batches        = 1.5238e-01 seconds\n",
      "   Time in active batches          = 3.3586e+00 seconds\n",
      "   Time synchronizing fission bank = 1.0734e-03 seconds\n",
      "     Sampling source sites         = 8.7768e-04 seconds\n",
      "     SEND/RECV source sites        = 6.7463e-05 seconds\n",
      "   Time accumulating tallies       = 7.7642e-02 seconds\n",
      "   Time writing statepoints        = 9.0731e-03 seconds\n",
      " Total time for finalization       = 1.9183e-04 seconds\n",
      " Total time elapsed                = 3.5230e+00 seconds\n",
      " Calculation Rate (inactive)       = 6562.4 particles/second\n",
      " Calculation Rate (active)         = 1190.96 particles/second\n",
      "\n",
      " ============================>     RESULTS     <============================\n",
      "\n",
      " k-effective (Collision)     = 0.77188 +/- 0.00981\n",
      " k-effective (Track-length)  = 0.77602 +/- 0.01051\n",
      " k-effective (Absorption)    = 0.77232 +/- 0.02141\n",
      " Combined k-effective        = 0.77107 +/- 0.00792\n",
      " Leakage Fraction            = 0.00000 +/- 0.00000\n",
      "\n",
      " Creating state point openmc_simulation_n1.h5...\n"
     ]
    }
   ],
   "source": [
    "model.deplete(timesteps, operator_kwargs=operator_kwargs, power=power)"
   ]
  },
  {
   "cell_type": "markdown",
   "id": "482a22a9",
   "metadata": {},
   "source": [
    "### Process data"
   ]
  },
  {
   "cell_type": "code",
   "execution_count": 7,
   "id": "9df1c151",
   "metadata": {},
   "outputs": [],
   "source": [
    "results = openmc.deplete.ResultsList.from_hdf5(\"./depletion_results.h5\")\n"
   ]
  },
  {
   "cell_type": "code",
   "execution_count": null,
   "id": "c8badbdd",
   "metadata": {},
   "outputs": [],
   "source": [
    "delayed_neutrons = sp.get_tally(name='delayed-neutrons')\n",
    "tot_neutrons = sp.get_tally(name='total-neutrons')\n",
    "precursor_decay = sp.get_tally(name='precursor-decay')\n",
    "fission_energy = sp.get_tally(name='fission-energy')\n",
    "normalization = sp.get_tally(name='normalization')\n",
    "delayed_neutrons_1g = sp.get_tally(name='delayed-neutrons-1g')\n",
    "precursor_decay_1g = sp.get_tally(name='precursor-decay-1g')"
   ]
  },
  {
   "cell_type": "markdown",
   "id": "5472d8b7",
   "metadata": {},
   "source": [
    "#### Calculating burnup"
   ]
  },
  {
   "cell_type": "markdown",
   "id": "a504a944",
   "metadata": {},
   "source": [
    "It seems to be the case that running ``Operatore.deplete()`` will modify the existing ``Materials`` object with the new material compositions. This is handy, but unexpected. Need to investigate more.\n",
    "\n",
    "Also, when creating a new material from the depletion results (``ResultsList.export_to_materials()``), the ``get_mass`` function returns the incorrect value. May be a units thing"
   ]
  },
  {
   "cell_type": "code",
   "execution_count": 39,
   "id": "476fe705",
   "metadata": {},
   "outputs": [],
   "source": [
    "depleted_materials = results.export_to_materials(1)\n",
    "new_operator = openmc.deplete.Operator(openmc.Model(geometry=geometry,\n",
    "                                                materials=depleted_materials),\n",
    "                                   chain_file=chain_path)\n",
    "hm_after = new_operator.heavy_metal"
   ]
  },
  {
   "cell_type": "code",
   "execution_count": 34,
   "id": "147fc2bf",
   "metadata": {},
   "outputs": [
    {
     "data": {
      "text/plain": [
       "530804.3807519117"
      ]
     },
     "execution_count": 34,
     "metadata": {},
     "output_type": "execute_result"
    }
   ],
   "source": [
    "burnup = power * (timesteps[0] / 3600 * 24) / (hm_before - hm_after) * 1e-3\n",
    "burnup"
   ]
  },
  {
   "cell_type": "code",
   "execution_count": null,
   "id": "e1d55e75",
   "metadata": {},
   "outputs": [],
   "source": [
    "materials[0].get_mass()"
   ]
  },
  {
   "cell_type": "code",
   "execution_count": null,
   "id": "90cc5a78",
   "metadata": {},
   "outputs": [],
   "source": [
    "depleted_materials[0].get_mass()"
   ]
  },
  {
   "cell_type": "markdown",
   "id": "29248456",
   "metadata": {},
   "source": [
    "### Tallies"
   ]
  },
  {
   "cell_type": "code",
   "execution_count": 57,
   "id": "a6637479",
   "metadata": {},
   "outputs": [],
   "source": [
    "sp = openmc.StatePoint('statepoint.50.h5')\n",
    "delayed_neutrons = sp.get_tally(name='delayed-neutrons')\n",
    "tot_neutrons = sp.get_tally(name='total-neutrons')\n",
    "precursor_decay = sp.get_tally(name='precursor-decay')\n",
    "fission_energy = sp.get_tally(name='fission-energy')\n",
    "normalization = sp.get_tally(name='normalization')\n",
    "delayed_neutrons_1g = sp.get_tally(name='delayed-neutrons-1g')\n",
    "precursor_decay_1g = sp.get_tally(name='precursor-decay-1g')"
   ]
  },
  {
   "cell_type": "markdown",
   "id": "10da0b7c",
   "metadata": {},
   "source": [
    "### Calculating $\\beta_{eff}$"
   ]
  },
  {
   "cell_type": "code",
   "execution_count": null,
   "id": "165c7874",
   "metadata": {},
   "outputs": [],
   "source": [
    "beta = delayed_neutrons/tot_neutrons\n",
    "beta_eff = beta.get_pandas_dataframe()['mean'].sum()\n",
    "\n",
    "beta_1g = delayed_neutrons_1g/tot_neutrons\n",
    "beta_eff_1g = beta_1g.get_pandas_dataframe()['mean'].sum()\n",
    "\n",
    "print(f'beta_eff: {beta_eff}')\n",
    "print(f'beta_eff_1g: {beta_eff_1g}')"
   ]
  },
  {
   "cell_type": "markdown",
   "id": "59828250",
   "metadata": {},
   "source": [
    "### Calculating $\\lambda_{eff}$"
   ]
  },
  {
   "cell_type": "code",
   "execution_count": null,
   "id": "c4bdc707",
   "metadata": {},
   "outputs": [],
   "source": [
    "precursor_lambda = precursor_decay / delayed_neutrons\n",
    "coeffs = delayed_neutrons/delayed_neutrons.get_pandas_dataframe()['mean'].sum()\n",
    "lambda_eff = (coeffs * precursor_lambda).get_pandas_dataframe()['mean'].sum()\n",
    "\n",
    "precursor_lambda_1g = precursor_decay_1g / delayed_neutrons_1g\n",
    "lambda_eff_1g = precursor_lambda_1g.get_pandas_dataframe()['mean'].sum()\n",
    "\n",
    "print(f'lambda_eff: {lambda_eff}')\n",
    "print(f'lambda_eff_1g: {lambda_eff_1g}')"
   ]
  },
  {
   "cell_type": "code",
   "execution_count": null,
   "id": "7773f359",
   "metadata": {},
   "outputs": [],
   "source": [
    "\n"
   ]
  },
  {
   "cell_type": "markdown",
   "id": "d2bf8b37",
   "metadata": {},
   "source": [
    "#### Calculating burnup"
   ]
  },
  {
   "cell_type": "code",
   "execution_count": null,
   "id": "878368db",
   "metadata": {},
   "outputs": [],
   "source": [
    "normalization = 1.602e-19 * normalization\n"
   ]
  },
  {
   "cell_type": "code",
   "execution_count": null,
   "id": "eea34d50",
   "metadata": {},
   "outputs": [],
   "source": [
    "operator = openmc.deplete.Operator(model, chain_file='./chain_simple.xml')"
   ]
  },
  {
   "cell_type": "code",
   "execution_count": null,
   "id": "dcd8ad6a",
   "metadata": {},
   "outputs": [],
   "source": [
    "operator.heavy_metal"
   ]
  },
  {
   "cell_type": "code",
   "execution_count": null,
   "id": "9a6e9c1f",
   "metadata": {},
   "outputs": [],
   "source": [
    "model.materials"
   ]
  },
  {
   "cell_type": "code",
   "execution_count": null,
   "id": "1b2c648d",
   "metadata": {},
   "outputs": [],
   "source": [
    "operator.heavy_metal"
   ]
  },
  {
   "cell_type": "code",
   "execution_count": null,
   "id": "588fce11",
   "metadata": {},
   "outputs": [],
   "source": [
    "hm_before"
   ]
  },
  {
   "cell_type": "code",
   "execution_count": null,
   "id": "c3c5dfab",
   "metadata": {},
   "outputs": [],
   "source": [
    "model.materials"
   ]
  },
  {
   "cell_type": "code",
   "execution_count": null,
   "id": "9fe17049",
   "metadata": {},
   "outputs": [],
   "source": []
  }
 ],
 "metadata": {
  "kernelspec": {
   "display_name": "Python [conda env:openmc-env] *",
   "language": "python",
   "name": "conda-env-openmc-env-py"
  },
  "language_info": {
   "codemirror_mode": {
    "name": "ipython",
    "version": 3
   },
   "file_extension": ".py",
   "mimetype": "text/x-python",
   "name": "python",
   "nbconvert_exporter": "python",
   "pygments_lexer": "ipython3",
   "version": "3.10.2"
  }
 },
 "nbformat": 4,
 "nbformat_minor": 5
}
